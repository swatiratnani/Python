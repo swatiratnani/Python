{
 "cells": [
  {
   "cell_type": "markdown",
   "metadata": {
    "delateable": false,
    "editable": false
   },
   "source": [
    "# <div class=\"alert alert-block alert-info\"> <span style=\"font-family: Times New Roman\">Assignment on python fundamentals</span> </div>\n"
   ]
  },
  {
   "cell_type": "markdown",
   "metadata": {
    "delateable": false,
    "editable": false
   },
   "source": [
    "###### Note: \n",
    "<div class=\"alert alert-block alert-danger\"> <span style=\"font-family: Times New Roman\"> \n",
    "    - Kindly use this notebook to solve the programming problems. <br>\n",
    "- Submit assignments with .ipynb file extension only.<br>\n",
    "- Kindly use comments or markdowns to explain logic behind the codes, approach to solve the problem.</span></div>"
   ]
  },
  {
   "cell_type": "markdown",
   "metadata": {
    "delateable": false,
    "editable": false
   },
   "source": [
    "<div class=\"warning\" style='padding:0.1em; background-color:#E9D8FD; color:#69337A'>\n",
    "<span>\n",
    "<p style='margin-top:1em; text-align:left'>\n",
    "<b>1. By using a single 'print' function print the provided string in specified execution format. </b></p>\n",
    "    \n",
    "Hello World     \n",
    "Welcome to 'Python' Programming\n",
    "\n"
   ]
  },
  {
   "cell_type": "code",
   "execution_count": 35,
   "metadata": {},
   "outputs": [
    {
     "name": "stdout",
     "output_type": "stream",
     "text": [
      "Hello World\n",
      "Welcome to 'Python' Programming\n"
     ]
    }
   ],
   "source": [
    "print('Hello World' \"\\n\" \"Welcome to 'Python' Programming\")\n",
    "#Blackslash n acts as an escape character#"
   ]
  },
  {
   "cell_type": "markdown",
   "metadata": {
    "delateable": false,
    "editable": false
   },
   "source": [
    "<div class=\"warning\" style='padding:0.1em; background-color:#E9D8FD; color:#69337A'>\n",
    "<span>\n",
    "<p style='margin-top:1em; text-align:left'>\n",
    "<b>2. Check the python version which you are using. </b></p>\n",
    "</span></div>\n"
   ]
  },
  {
   "cell_type": "code",
   "execution_count": 9,
   "metadata": {},
   "outputs": [
    {
     "name": "stdout",
     "output_type": "stream",
     "text": [
      "Version used: 3.12.7 | packaged by Anaconda, Inc. | (main, Oct  4 2024, 13:17:27) [MSC v.1929 64 bit (AMD64)]\n"
     ]
    }
   ],
   "source": [
    "import sys\n",
    "print(\"Version used:\" , sys.version)\n"
   ]
  },
  {
   "cell_type": "markdown",
   "metadata": {
    "delateable": false,
    "editable": false
   },
   "source": [
    "<div class=\"warning\" style='padding:0.1em; background-color:#E9D8FD; color:#69337A'>\n",
    "<span>\n",
    "<p style='margin-top:1em; text-align:left'>\n",
    "<b>3. Design a Python program which can calculate the area by taking radius as input by 'user input' method. </b></p>\n",
    "<table>\n",
    "  <tr>\n",
    "  <td><td>\n",
    "      <br> instead of giving direct values try using \"<b>float(input())</b>\" </td>\n",
    "  </tr>\n",
    "</table>\n",
    "</span>\n",
    "</div>\n"
   ]
  },
  {
   "cell_type": "code",
   "execution_count": 13,
   "metadata": {},
   "outputs": [
    {
     "name": "stdin",
     "output_type": "stream",
     "text": [
      "Please enter the radius 6\n"
     ]
    },
    {
     "name": "stdout",
     "output_type": "stream",
     "text": [
      "Area is= 113.03999999999999\n"
     ]
    }
   ],
   "source": [
    "r=float(input(\"Please enter the radius\"))\n",
    "area=3.14*r*r\n",
    "print(\"Area is=\", area)\n"
   ]
  },
  {
   "cell_type": "markdown",
   "metadata": {
    "delateable": false,
    "editable": false
   },
   "source": [
    "<div class=\"warning\" style='padding:0.1em; background-color:#E9D8FD; color:#69337A'>\n",
    "<span>\n",
    "<p style='margin-top:1em; text-align:left'>\n",
    "<b>4. Write a python program which can take your first and last name seperately and execute as shown below. </b></p>\n",
    "<table>\n",
    "  <tr>\n",
    "  <td><td>\n",
    "      <br><b>Sample execution</b> : Hello 'first name' 'last name', hope you are doing good</td>\n",
    "  </tr>\n",
    "</table>\n",
    "</span></div>\n"
   ]
  },
  {
   "cell_type": "code",
   "execution_count": 29,
   "metadata": {},
   "outputs": [
    {
     "name": "stdin",
     "output_type": "stream",
     "text": [
      "Enter your Firstname swati\n",
      "Enter your Lastname Ratnani\n"
     ]
    },
    {
     "name": "stdout",
     "output_type": "stream",
     "text": [
      "Hello 'swati' 'Ratnani', hope you are doing good\n"
     ]
    }
   ],
   "source": [
    "fn=input(\"Enter your Firstname\")\n",
    "ln=input(\"Enter your Lastname\")\n",
    "print(f\"Hello '{fn}' '{ln}', hope you are doing good\")\n",
    "\n",
    "#using f helps us in printing strings in desired format#"
   ]
  },
  {
   "cell_type": "code",
   "execution_count": null,
   "metadata": {},
   "outputs": [],
   "source": []
  },
  {
   "cell_type": "markdown",
   "metadata": {
    "delateable": false,
    "editable": false
   },
   "source": [
    "<div class=\"warning\" style='padding:0.1em; background-color:#E9D8FD; color:#69337A'>\n",
    "<span>\n",
    "<p style='margin-top:1em; text-align:left'>\n",
    "<b>5. Write a python program which can convert kilograms to grams.</b></p>\n",
    "</span></div>\n",
    "\n"
   ]
  },
  {
   "cell_type": "code",
   "execution_count": 33,
   "metadata": {
    "scrolled": true
   },
   "outputs": [
    {
     "name": "stdin",
     "output_type": "stream",
     "text": [
      "Enter weight in kilograms 94\n"
     ]
    },
    {
     "name": "stdout",
     "output_type": "stream",
     "text": [
      "94.0 kilograms is equal to 94000.0 grams.\n"
     ]
    }
   ],
   "source": [
    "WinK=float(input(\"Enter weight in kilograms\"))\n",
    "WinG= WinK*1000\n",
    "print(f\"{WinK} kilograms is equal to {WinG} grams.\")\n",
    "#using float input helps in correct conversion during the run of the program#"
   ]
  },
  {
   "cell_type": "markdown",
   "metadata": {
    "delateable": false,
    "editable": false
   },
   "source": [
    "<div class=\"warning\" style='padding:0.1em; background-color:#E9D8FD; color:#69337A'>\n",
    "<span>\n",
    "<p style='margin-top:1em; text-align:left'>\n",
    "<b>6. Create a list and store the given elements in the list, and solve the following questions listed below.</b></p>\n",
    "<table>\n",
    "  <tr>\n",
    "  <td><td>\n",
    "      <br><b>Elements</b>: 'Bengaluru','New York', 1971, '1682', (1,2,3,4,5,'Is this tuple?'),\"'Hello,welcome to Python Programming'\"</td>\n",
    "  </tr>\n",
    "</table>\n",
    "</span>  \n",
    "\n",
    "- Try to extract entire tuple by using positive indexing  \n",
    "- Can we add elements into tuple after creating it?\n",
    "- Remove '1682' and 'New York' from the list\n",
    "- Discuss one practical application of tuple and lists\n",
    "- Access 'Bengaluru' by Negitive indexing\n",
    "- add 'Mumbai' into the list\n",
    "\n",
    "- Try to perform one operation on each removal operation on lists \n",
    "\n",
    "1. del\n",
    "2. remove\n",
    "3. pop\n",
    "- Try to perform one operation on each operational\n",
    "1. append\n",
    "2. entend\n",
    "3. insert</div>"
   ]
  },
  {
   "cell_type": "code",
   "execution_count": 41,
   "metadata": {},
   "outputs": [
    {
     "name": "stdout",
     "output_type": "stream",
     "text": [
      "(1, 2, 3, 4, 5, 'Is this tuple?')\n"
     ]
    }
   ],
   "source": [
    "#Answer 1: Extracting entire tuple using positive indexing#\n",
    "list1=['Bengaluru','New York', 1971, '1682', (1,2,3,4,5,'Is this tuple?'),\"'Hello,welcome to Python Programming'\"]\n",
    "print(list1[4])"
   ]
  },
  {
   "cell_type": "code",
   "execution_count": null,
   "metadata": {},
   "outputs": [],
   "source": [
    "#Answer 2: No after creating a tuple we cannot add/remove/replace elements in it. This is because unlike lists tuples are immutable#"
   ]
  },
  {
   "cell_type": "code",
   "execution_count": 47,
   "metadata": {},
   "outputs": [
    {
     "name": "stdout",
     "output_type": "stream",
     "text": [
      "['Bengaluru', 'New York', 1971, (1, 2, 3, 4, 5, 'Is this tuple?'), \"'Hello,welcome to Python Programming'\"]\n",
      "['Bengaluru', 1971, (1, 2, 3, 4, 5, 'Is this tuple?'), \"'Hello,welcome to Python Programming'\"]\n"
     ]
    }
   ],
   "source": [
    "#Answer 3:#\n",
    "list2=list1.copy()\n",
    "list2.remove('1682')\n",
    "print(list2)\n",
    "list2.remove('New York')\n",
    "print(list2)"
   ]
  },
  {
   "cell_type": "code",
   "execution_count": null,
   "metadata": {},
   "outputs": [],
   "source": [
    "'''Answer 4:\n",
    "Practical Application of Lists- Storing a data that needs to be changed for example list of employees in an organisation or list of patients admitted in hospitals.\n",
    "Practical Application of Tuples- Storing data that shouldn't be changed for example list of months.'''"
   ]
  },
  {
   "cell_type": "code",
   "execution_count": 51,
   "metadata": {},
   "outputs": [
    {
     "name": "stdout",
     "output_type": "stream",
     "text": [
      "Bengaluru\n"
     ]
    }
   ],
   "source": [
    "#Answer 5:#\n",
    "list3=list1.copy()\n",
    "a=list3[-6]\n",
    "print(a)"
   ]
  },
  {
   "cell_type": "code",
   "execution_count": 55,
   "metadata": {},
   "outputs": [
    {
     "name": "stdout",
     "output_type": "stream",
     "text": [
      "['Bengaluru', 'New York', 1971, '1682', (1, 2, 3, 4, 5, 'Is this tuple?'), \"'Hello,welcome to Python Programming'\", 'Mumbai']\n"
     ]
    }
   ],
   "source": [
    "#Answer 6:#\n",
    "list4=list1.copy()\n",
    "list4.append('Mumbai')\n",
    "print(list4)"
   ]
  },
  {
   "cell_type": "code",
   "execution_count": 73,
   "metadata": {},
   "outputs": [
    {
     "name": "stdout",
     "output_type": "stream",
     "text": [
      "['Bengaluru', 'New York', '1682', (1, 2, 3, 4, 5, 'Is this tuple?'), \"'Hello,welcome to Python Programming'\"]\n"
     ]
    }
   ],
   "source": [
    "#Answer 7:# \n",
    "#Creating a copy of first list and then removing an element first#\n",
    "list5=list1.copy()\n",
    "list5.remove(1971)\n",
    "print(list5)\n",
    "#Now poping an element#\n",
    "list5.pop(3)\n",
    "#Now deleting an element#\n",
    "del list5[2]\n",
    "\n"
   ]
  },
  {
   "cell_type": "code",
   "execution_count": 87,
   "metadata": {},
   "outputs": [
    {
     "name": "stdout",
     "output_type": "stream",
     "text": [
      "['Bengaluru', 'New York', 1971, '1682', (1, 2, 3, 4, 5, 'Is this tuple?'), \"'Hello,welcome to Python Programming'\", 8]\n",
      "['Bengaluru', 'New York', 1971, 'Repeated', '1682', (1, 2, 3, 4, 5, 'Is this tuple?'), \"'Hello,welcome to Python Programming'\", 8]\n",
      "['Bengaluru', 'New York', 1971, 'Repeated', '1682', (1, 2, 3, 4, 5, 'Is this tuple?'), \"'Hello,welcome to Python Programming'\", 8, 1, 8, 9]\n"
     ]
    }
   ],
   "source": [
    "#Answer 8: performing append, entend, and insert functions on the list#\n",
    "list6=list1.copy()\n",
    "list6.append(8)\n",
    "print(list6)\n",
    "list6.insert(3, 'Repeated')\n",
    "print(list6)\n",
    "list6.extend([1,8,9])\n",
    "print(list6)"
   ]
  },
  {
   "cell_type": "markdown",
   "metadata": {
    "delateable": false,
    "editable": false
   },
   "source": [
    "<div class=\"warning\" style='padding:0.1em; background-color:#E9D8FD; color:#69337A'>\n",
    "<span>\n",
    "<p style='margin-top:1em; text-align:left'>\n",
    "<b>7. Write a python program which can calculate the electricity bill by considering the no. of units consumed and other parameters are mentioned below.</b></p>\n",
    "</span>  \n",
    "\n",
    "- If units consumed is less than 50 then bill amount should be 100INR.\n",
    "- If units consumed between 50 - 300 then each unit will be charged at 4.5 INR.\n",
    "- If units are consumed more than 300 then that billed individual have to pay base pay as 1000INR and 300 units will be reduced from his total consumed units and for remaining units 7 INR will be charged for each unit.\n",
    "</div>\n",
    "\n",
    "\n"
   ]
  },
  {
   "cell_type": "code",
   "execution_count": 89,
   "metadata": {},
   "outputs": [
    {
     "name": "stdin",
     "output_type": "stream",
     "text": [
      "Enter the number of units consumed:  64\n"
     ]
    },
    {
     "name": "stdout",
     "output_type": "stream",
     "text": [
      "The total electricity bill for 64.0 units is: 288.0 INR\n"
     ]
    }
   ],
   "source": [
    "def calculate_bill(units):\n",
    "    if units < 50:\n",
    "        bill = 100\n",
    "    elif 50 <= units <= 300:\n",
    "        bill = units * 4.5\n",
    "    else:\n",
    "        base_pay = 1000\n",
    "        excess_units = units - 300\n",
    "        bill = base_pay + (excess_units * 7)\n",
    "\n",
    "    return bill\n",
    "\n",
    "units_consumed = float(input(\"Enter the number of units consumed: \"))\n",
    "\n",
    "bill_amount = calculate_bill(units_consumed)\n",
    "\n",
    "print(f\"The total electricity bill for {units_consumed} units is: {bill_amount} INR\")\n"
   ]
  },
  {
   "cell_type": "markdown",
   "metadata": {
    "delateable": false,
    "editable": false
   },
   "source": [
    "<div class=\"warning\" style='padding:0.1em; background-color:#E9D8FD; color:#69337A'>\n",
    "<span>\n",
    "<p style='margin-top:1em; text-align:left'>\n",
    "<b>8. Write a program to calculate the tax of the vehicle based on the price.</b></p>\n",
    "</span>  \n",
    "- below are the parameters to consider\n",
    "\n",
    "    Cost price (in Rs)                                            Tax\n",
    "        > 150000                                                   18%\n",
    "        >100000 and <=150000                                       15 %\n",
    "        > 0 and <= 100000                                          10%\n",
    "         \n",
    "        "
   ]
  },
  {
   "cell_type": "code",
   "execution_count": 95,
   "metadata": {},
   "outputs": [
    {
     "name": "stdin",
     "output_type": "stream",
     "text": [
      "Enter the Price of your Vehicle 101500\n"
     ]
    },
    {
     "name": "stdout",
     "output_type": "stream",
     "text": [
      "The total Tax of your Vehicle for 101500.0 is: 15225.0 INR\n"
     ]
    }
   ],
   "source": [
    "def calculate_tax(Cost_Price):\n",
    "   if Cost_Price>150000:\n",
    "       tax= (18 * Cost_Price)/100\n",
    "   elif Cost_Price>100000 and Cost_Price<=150000:\n",
    "       tax= (15 * Cost_Price)/100\n",
    "   elif Cost_Price>0 and Cost_Price<=100000:\n",
    "       tax= (10 * Cost_Price)/100\n",
    "\n",
    "   return tax\n",
    "\n",
    "Cost_Price=float(input(\"Enter the Price of your Vehicle\"))\n",
    "\n",
    "tax = calculate_tax(Cost_Price)\n",
    "\n",
    "print(f\"The total Tax of your Vehicle for {Cost_Price} is: {tax} INR\")\n"
   ]
  },
  {
   "cell_type": "markdown",
   "metadata": {
    "delateable": false,
    "editable": false
   },
   "source": [
    "<div class=\"warning\" style='padding:0.1em; background-color:#E9D8FD; color:#69337A'>\n",
    "<span>\n",
    "<p style='margin-top:1em; text-align:left'>\n",
    "<b>9. Write a program to check if the input is positive or negative.</b></p>\n",
    "</span></div>\n",
    "\n"
   ]
  },
  {
   "cell_type": "code",
   "execution_count": 97,
   "metadata": {},
   "outputs": [
    {
     "name": "stdin",
     "output_type": "stream",
     "text": [
      "Enter a number:  18\n"
     ]
    },
    {
     "name": "stdout",
     "output_type": "stream",
     "text": [
      "The number is positive.\n"
     ]
    }
   ],
   "source": [
    "def check_number(number):\n",
    "    if number > 0:\n",
    "        return \"The number is positive.\"\n",
    "    elif number < 0:\n",
    "        return \"The number is negative.\"\n",
    "    else:\n",
    "        return \"The number is zero.\"\n",
    "\n",
    "# Input: Get number from user\n",
    "try:\n",
    "    num = float(input(\"Enter a number: \"))\n",
    "    result = check_number(num)\n",
    "    print(result)\n",
    "except ValueError:\n",
    "    print(\"Please enter a valid number.\")"
   ]
  },
  {
   "cell_type": "markdown",
   "metadata": {
    "delateable": false,
    "editable": false
   },
   "source": [
    "<div class=\"warning\" style='padding:0.1em; background-color:#E9D8FD; color:#69337A'>\n",
    "<span>\n",
    "<p style='margin-top:1em; text-align:left'>\n",
    "<b>10. Define a function which can multiply the string with n number of times.</b></p>\n",
    "</span>\n",
    "\n",
    " \n",
    "- string = \"python programming\"</div>\n"
   ]
  },
  {
   "cell_type": "code",
   "execution_count": 99,
   "metadata": {},
   "outputs": [
    {
     "name": "stdin",
     "output_type": "stream",
     "text": [
      "Enter the number of times to multiply the string:  5\n"
     ]
    },
    {
     "name": "stdout",
     "output_type": "stream",
     "text": [
      "python programmingpython programmingpython programmingpython programmingpython programming\n"
     ]
    }
   ],
   "source": [
    "def multiply_string(string, n):\n",
    "    return string * n\n",
    "\n",
    "# Test the function with the given string\n",
    "string = \"python programming\"\n",
    "n = int(input(\"Enter the number of times to multiply the string: \"))\n",
    "\n",
    "result = multiply_string(string, n)\n",
    "print(result)"
   ]
  },
  {
   "cell_type": "markdown",
   "metadata": {
    "delateable": false,
    "editable": false
   },
   "source": [
    "<div class=\"warning\" style='padding:0.1em; background-color:#E9D8FD; color:#69337A'>\n",
    "<span>\n",
    "<p style='margin-top:1em; text-align:left'>\n",
    "<b>11. Define a function which can sum up two numbers.</b></p>\n",
    "</span>\n",
    "\n"
   ]
  },
  {
   "cell_type": "code",
   "execution_count": 103,
   "metadata": {},
   "outputs": [
    {
     "name": "stdin",
     "output_type": "stream",
     "text": [
      "Enter the first number 84\n",
      "Enter the second number 62\n"
     ]
    },
    {
     "name": "stdout",
     "output_type": "stream",
     "text": [
      "146.0\n"
     ]
    }
   ],
   "source": [
    "def sum(a,b):\n",
    "    add=a+b\n",
    "    return add\n",
    "\n",
    "a=float(input(\"Enter the first number\"))\n",
    "b=float(input(\"Enter the second number\"))\n",
    "result=sum(a,b)\n",
    "print(result)"
   ]
  },
  {
   "cell_type": "markdown",
   "metadata": {
    "delateable": false,
    "editable": false
   },
   "source": [
    "<div class=\"warning\" style='padding:0.1em; background-color:#E9D8FD; color:#69337A'>\n",
    "<span>\n",
    "<p style='margin-top:1em; text-align:left'>\n",
    "<b>12. Define a function which can identify if a user has entered specific string or not.</b></p>\n",
    "</span>\n",
    "\n",
    " \n",
    "- specified string = \"India\"</div>\n",
    "\n"
   ]
  },
  {
   "cell_type": "code",
   "execution_count": 105,
   "metadata": {},
   "outputs": [
    {
     "name": "stdin",
     "output_type": "stream",
     "text": [
      "Enter a string:  UK\n"
     ]
    },
    {
     "name": "stdout",
     "output_type": "stream",
     "text": [
      "You did not enter the specified string.\n"
     ]
    }
   ],
   "source": [
    "def check_string(user_input):\n",
    "    specified_string = \"India\"\n",
    "    if user_input == specified_string:\n",
    "        return \"You entered the specified string!\"\n",
    "    else:\n",
    "        return \"You did not enter the specified string.\"\n",
    "\n",
    "user_input = input(\"Enter a string: \")\n",
    "result = check_string(user_input)\n",
    "print(result)"
   ]
  },
  {
   "cell_type": "markdown",
   "metadata": {
    "delateable": false,
    "editable": false
   },
   "source": [
    "<div class=\"warning\" style='padding:0.1em; background-color:#E9D8FD; color:#69337A'>\n",
    "<span>\n",
    "<p style='margin-top:1em; text-align:left'>\n",
    "<b>13. Define a function which will greet by taking user name as input.</b></p>\n",
    "</span>\n",
    " \n",
    "- input = name\n",
    "- hello 'name', hope you are doing well</div>\n",
    "\n",
    "\n",
    "\n"
   ]
  },
  {
   "cell_type": "code",
   "execution_count": 107,
   "metadata": {},
   "outputs": [
    {
     "name": "stdin",
     "output_type": "stream",
     "text": [
      "Enter your name:  Swati\n"
     ]
    },
    {
     "name": "stdout",
     "output_type": "stream",
     "text": [
      "Hello Swati, hope you are doing well!\n"
     ]
    }
   ],
   "source": [
    "def greet_user():\n",
    "    name = input(\"Enter your name: \")\n",
    "    print(f\"Hello {name}, hope you are doing well!\")\n",
    "\n",
    "# Call the function to greet the user\n",
    "greet_user()"
   ]
  },
  {
   "cell_type": "markdown",
   "metadata": {
    "delateable": false,
    "editable": false
   },
   "source": [
    "<div class=\"warning\" style='padding:0.1em; background-color:#E9D8FD; color:#69337A'>\n",
    "<span>\n",
    "<p style='margin-top:1em; text-align:left'>\n",
    "<b>14. Define a function which can give us the entire prime numbers within the given range.</b></p>\n",
    "<b>- For range(), input should be taken from the user.</b></p>\n",
    "</span>\n",
    "</div>\n",
    "\n"
   ]
  },
  {
   "cell_type": "code",
   "execution_count": 109,
   "metadata": {},
   "outputs": [
    {
     "name": "stdin",
     "output_type": "stream",
     "text": [
      "Enter the starting number of the range:  5\n",
      "Enter the ending number of the range:  60\n"
     ]
    },
    {
     "name": "stdout",
     "output_type": "stream",
     "text": [
      "Prime numbers between 5 and 60 are: [5, 7, 11, 13, 17, 19, 23, 29, 31, 37, 41, 43, 47, 53, 59]\n"
     ]
    }
   ],
   "source": [
    "def is_prime(number):\n",
    "    \"\"\"Check if a number is prime.\"\"\"\n",
    "    if number < 2:\n",
    "        return False\n",
    "    for i in range(2, int(number ** 0.5) + 1):\n",
    "        if number % i == 0:\n",
    "            return False\n",
    "    return True\n",
    "\n",
    "def find_primes_in_range(start, end):\n",
    "    \"\"\"Return a list of prime numbers in the specified range.\"\"\"\n",
    "    primes = []\n",
    "    for num in range(start, end + 1):\n",
    "        if is_prime(num):\n",
    "            primes.append(num)\n",
    "    return primes\n",
    "\n",
    "try:\n",
    "    start = int(input(\"Enter the starting number of the range: \"))\n",
    "    end = int(input(\"Enter the ending number of the range: \"))\n",
    "    \n",
    "    if start > end:\n",
    "        print(\"Invalid range. The start should be less than or equal to the end.\")\n",
    "    else:\n",
    "        primes = find_primes_in_range(start, end)\n",
    "        print(f\"Prime numbers between {start} and {end} are: {primes}\")\n",
    "except ValueError:\n",
    "    print(\"Please enter valid integers.\")"
   ]
  },
  {
   "cell_type": "markdown",
   "metadata": {
    "delateable": false,
    "editable": false
   },
   "source": [
    "<div class=\"warning\" style='padding:0.1em; background-color:#E9D8FD; color:#69337A'>\n",
    "<span>\n",
    "<p style='margin-top:1em; text-align:left'>\n",
    "<b>15.Check if a given string is palindrome.\n",
    "</b></p>\n",
    "</span>\n",
    "<br> A string is palindrome if the reverse of the string is same as itself.\n",
    "<br> For eg. madam\n",
    "<br> Print \" `string` is palindrome\" if it is palindrome \n",
    "<br> else \" `string` is not a palindrome\" if it is not a palindrome.\n",
    "\n",
    "<br><b> Hint : Use slicing to get reverse of the string.\n"
   ]
  },
  {
   "cell_type": "code",
   "execution_count": 111,
   "metadata": {},
   "outputs": [
    {
     "name": "stdin",
     "output_type": "stream",
     "text": [
      "Enter a string:  Nitin\n"
     ]
    },
    {
     "name": "stdout",
     "output_type": "stream",
     "text": [
      "'Nitin' is not a palindrome\n"
     ]
    }
   ],
   "source": [
    "def is_palindrome(string):\n",
    "    if string == string[::-1]:\n",
    "        return f\"'{string}' is a palindrome\"\n",
    "    else:\n",
    "        return f\"'{string}' is not a palindrome\"\n",
    "\n",
    "# Input: Get a string from the user\n",
    "user_input = input(\"Enter a string: \")\n",
    "\n",
    "result = is_palindrome(user_input)\n",
    "print(result)\n",
    "\n",
    "'''Since Python is a case sensitive language N is not same as n, thus on checking Nitin which is a Palindrome it returns a false'''"
   ]
  },
  {
   "cell_type": "markdown",
   "metadata": {
    "delateable": false,
    "editable": false
   },
   "source": [
    "<div class=\"warning\" style='padding:0.1em; background-color:#E9D8FD; color:#69337A'>\n",
    "<span>\n",
    "<p style='margin-top:1em; text-align:left'>\n",
    "<b>16. Write a python program to find n is a leap year.\n",
    "</b></p>\n",
    "</span>\n",
    "<br> Print \"n is a leap year\" if the given year is leap year.\n",
    "<br> Print \"n is not a leap year\" if the given year is not leap year.\n",
    "<br> Replace n with given year.\n",
    "    \n",
    "<br><b>   Hint : Use nested if-else </b>\n",
    "</div>\n"
   ]
  },
  {
   "cell_type": "code",
   "execution_count": 115,
   "metadata": {},
   "outputs": [
    {
     "name": "stdin",
     "output_type": "stream",
     "text": [
      "Enter the Year 2013\n"
     ]
    },
    {
     "name": "stdout",
     "output_type": "stream",
     "text": [
      "Not a Leap Year\n"
     ]
    }
   ],
   "source": [
    "#Checking for the leap Year\n",
    "def Check_leap_year(n):\n",
    "    if n%4==0:\n",
    "        return 'Leap Year'\n",
    "    else:\n",
    "        return 'Not a Leap Year'\n",
    "#Input: Get the year from the user\n",
    "user_input=int(input(\"Enter the Year\"))\n",
    "\n",
    "result=Check_leap_year(user_input)\n",
    "print(result)"
   ]
  },
  {
   "cell_type": "markdown",
   "metadata": {
    "delateable": false,
    "editable": false
   },
   "source": [
    "<div class=\"warning\" style='padding:0.1em; background-color:#E9D8FD; color:#69337A'>\n",
    "<span>\n",
    "<p style='margin-top:1em; text-align:left'>\n",
    "<b>17. Define a function to check if n is leap year.</b></p>\n",
    "</span>\n",
    "   \n",
    "<b> Hint: Using the calendar module </b>\n",
    "</div>\n"
   ]
  },
  {
   "cell_type": "code",
   "execution_count": 119,
   "metadata": {},
   "outputs": [
    {
     "name": "stdin",
     "output_type": "stream",
     "text": [
      "Enter a year:  2020\n"
     ]
    },
    {
     "name": "stdout",
     "output_type": "stream",
     "text": [
      "2020 is a leap year.\n"
     ]
    }
   ],
   "source": [
    "import calendar\n",
    "\n",
    "def Check_leap_year(n):\n",
    "    if calendar.isleap(n):\n",
    "        return f\"{n} is a leap year.\"\n",
    "    else:\n",
    "        return f\"{n} is not a leap year.\"\n",
    "\n",
    "# Input: Get the year from the user\n",
    "try:\n",
    "    year = int(input(\"Enter a year: \"))\n",
    "    result = Check_leap_year(year)\n",
    "    print(result)\n",
    "except ValueError:\n",
    "    print(\"Please enter a valid year.\")"
   ]
  },
  {
   "cell_type": "code",
   "execution_count": null,
   "metadata": {},
   "outputs": [],
   "source": []
  },
  {
   "cell_type": "markdown",
   "metadata": {
    "delateable": false,
    "editable": false
   },
   "source": [
    "<div class=\"warning\" style='padding:0.1em; background-color:#E9D8FD; color:#69337A'>\n",
    "<span>\n",
    "<p style='margin-top:1em; text-align:left'>\n",
    "<b>18. Find the largest among three numbers.</b></p>\n",
    "</span>\n",
    "\n",
    " eg. Consider a,b,c as the three numbers, find which is the  largest number among them."
   ]
  },
  {
   "cell_type": "code",
   "execution_count": 121,
   "metadata": {},
   "outputs": [
    {
     "name": "stdin",
     "output_type": "stream",
     "text": [
      "Enter the first number (a):  18\n",
      "Enter the second number (b):  25\n",
      "Enter the third number (c):  6\n"
     ]
    },
    {
     "name": "stdout",
     "output_type": "stream",
     "text": [
      "The largest number is 25.0\n"
     ]
    }
   ],
   "source": [
    "def find_largest(a, b, c):\n",
    "    if a >= b and a >= c:\n",
    "        return f\"The largest number is {a}\"\n",
    "    elif b >= a and b >= c:\n",
    "        return f\"The largest number is {b}\"\n",
    "    else:\n",
    "        return f\"The largest number is {c}\"\n",
    "\n",
    "#Input numbers from user\n",
    "try:\n",
    "    a = float(input(\"Enter the first number (a): \"))\n",
    "    b = float(input(\"Enter the second number (b): \"))\n",
    "    c = float(input(\"Enter the third number (c): \"))\n",
    "\n",
    "    # Find and print the largest number\n",
    "    result = find_largest(a, b, c)\n",
    "    print(result)\n",
    "except ValueError:\n",
    "    print(\"Please enter valid numbers.\")"
   ]
  },
  {
   "cell_type": "code",
   "execution_count": null,
   "metadata": {},
   "outputs": [],
   "source": []
  },
  {
   "cell_type": "markdown",
   "metadata": {
    "delateable": false,
    "editable": false
   },
   "source": [
    "\n",
    "<div class=\"warning\" style='padding:0.1em; background-color:#E9D8FD; color:#69337A'>\n",
    "<span>\n",
    "<p style='margin-top:1em; text-align:left'>\n",
    "<b>19. Write a python program to print even numbers from 1 to 15 by using range() function.\n",
    "</b></p>\n",
    "</span>\n"
   ]
  },
  {
   "cell_type": "code",
   "execution_count": 123,
   "metadata": {},
   "outputs": [
    {
     "name": "stdout",
     "output_type": "stream",
     "text": [
      "2 4 6 8 10 12 14 "
     ]
    }
   ],
   "source": [
    "for num in range(1, 16):\n",
    "    if num % 2 == 0:\n",
    "        print(num, end=\" \")"
   ]
  },
  {
   "cell_type": "code",
   "execution_count": null,
   "metadata": {},
   "outputs": [],
   "source": []
  },
  {
   "cell_type": "markdown",
   "metadata": {
    "delateable": false,
    "editable": false
   },
   "source": [
    "<div class=\"warning\" style='padding:0.1em; background-color:#E9D8FD; color:#69337A'>\n",
    "<span>\n",
    "<p style='margin-top:1em; text-align:left'>\n",
    "<b>20. Write a program to guess the integer which is selected by computer using  randint() function.\n",
    "</b></p>\n",
    "</span>\n",
    "\n",
    "- Use random() and randint().\n",
    "- Range should be 1 to 10.\n",
    "- If user's number is greater than 10 then program should say your guess is too high.\n",
    "- If user input is matches with the computer choice then your program should say \"yey! correct guess\".\n",
    "- Otherwise your program should say too low.\n",
    "\n",
    "    <b>- Important point to note is, this must be an iterative process until the correct guess.</div>"
   ]
  },
  {
   "cell_type": "code",
   "execution_count": null,
   "metadata": {},
   "outputs": [
    {
     "name": "stdin",
     "output_type": "stream",
     "text": [
      "Guess a number between 1 and 10:  16\n"
     ]
    },
    {
     "name": "stdout",
     "output_type": "stream",
     "text": [
      "Your guess is too high. Please guess a number within the range 1 to 10.\n"
     ]
    },
    {
     "name": "stdin",
     "output_type": "stream",
     "text": [
      "Guess a number between 1 and 10:  8\n"
     ]
    },
    {
     "name": "stdout",
     "output_type": "stream",
     "text": [
      "Too high. Try again!\n"
     ]
    },
    {
     "name": "stdin",
     "output_type": "stream",
     "text": [
      "Guess a number between 1 and 10:  4\n"
     ]
    },
    {
     "name": "stdout",
     "output_type": "stream",
     "text": [
      "Too low. Try again!\n"
     ]
    }
   ],
   "source": [
    "import random\n",
    "\n",
    "def guess_number():\n",
    "    computer_choice = random.randint(1, 10)  # Computer selects a random number between 1 and 10\n",
    "    while True:\n",
    "        try:\n",
    "            user_guess = int(input(\"Guess a number between 1 and 10: \"))\n",
    "            if user_guess > 10:\n",
    "                print(\"Your guess is too high. Please guess a number within the range 1 to 10.\")\n",
    "            elif user_guess < 1:\n",
    "                print(\"Your guess is too low. Please guess a number within the range 1 to 10.\")\n",
    "            elif user_guess == computer_choice:\n",
    "                print(\"Yey! Correct guess\")\n",
    "                break\n",
    "            elif user_guess < computer_choice:\n",
    "                print(\"Too low. Try again!\")\n",
    "            else:\n",
    "                print(\"Too high. Try again!\")\n",
    "        except ValueError:\n",
    "            print(\"Please enter a valid integer.\")\n",
    "\n",
    "guess_number()\n",
    "\n"
   ]
  },
  {
   "cell_type": "code",
   "execution_count": null,
   "metadata": {},
   "outputs": [],
   "source": []
  }
 ],
 "metadata": {
  "kernelspec": {
   "display_name": "Python [conda env:base] *",
   "language": "python",
   "name": "conda-base-py"
  },
  "language_info": {
   "codemirror_mode": {
    "name": "ipython",
    "version": 3
   },
   "file_extension": ".py",
   "mimetype": "text/x-python",
   "name": "python",
   "nbconvert_exporter": "python",
   "pygments_lexer": "ipython3",
   "version": "3.12.7"
  }
 },
 "nbformat": 4,
 "nbformat_minor": 4
}
