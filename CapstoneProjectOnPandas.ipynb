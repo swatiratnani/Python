{
 "cells": [
  {
   "cell_type": "code",
   "execution_count": 3,
   "id": "ab0ad04c-eeb7-487e-a680-9a092c34b9b1",
   "metadata": {},
   "outputs": [
    {
     "name": "stdout",
     "output_type": "stream",
     "text": [
      "Task 1 completed: Dataframes created and saved as CSV files.\n"
     ]
    }
   ],
   "source": [
    "import pandas as pd\n",
    "\n",
    "# Task 1: Creating the dataframes\n",
    "employee_data = {\n",
    "    'ID': ['A001', 'A002', 'A003', 'A004', 'A005'],\n",
    "    'Name': ['John Alter', 'Alice Luxumberg', 'Tom Sabestine', 'Nina Adgra', 'Amy Johny'],\n",
    "    'Gender': ['M', 'F', 'M', 'F', 'F'],\n",
    "    'City': ['Paris', 'London', 'Berlin', 'Newyork', 'Madrid'],\n",
    "    'Age': [25, 27, 29, 31, 30]\n",
    "}\n",
    "\n",
    "seniority_data = {\n",
    "    'ID': ['A001', 'A002', 'A003', 'A004', 'A005'],\n",
    "    'Designation Level': [2, 2, 3, 2, 3]\n",
    "}\n",
    "\n",
    "project_data = {\n",
    "    'ID': ['A001', 'A002', 'A003', 'A004', 'A005', 'A002', 'A005', 'A003', 'A001', 'A003', 'A001', 'A004', 'A004', 'A005'],\n",
    "    'Project': ['Project 1', 'Project 2', 'Project 3', 'Project 4', 'Project 5', 'Project 6', 'Project 7', 'Project 8', 'Project 9', 'Project 10', 'Project 11', 'Project 12', 'Project 13', 'Project 14'],\n",
    "    'Cost': [1002000, 2000000, 4500000, 5500000, None, 680000, 400000, 350000, None, 300000, 2000000, 1000000, 3000000, 200000],\n",
    "    'Status': ['Finished', 'Ongoing', 'Finished', 'Ongoing', 'Finished', 'Failed', 'Finished', 'Failed', 'Ongoing', 'Finished', 'Failed', 'Ongoing', 'Finished', 'Finished']\n",
    "}\n",
    "\n",
    "# Convert dictionaries to dataframes\n",
    "employee_df = pd.DataFrame(employee_data)\n",
    "seniority_df = pd.DataFrame(seniority_data)\n",
    "project_df = pd.DataFrame(project_data)\n",
    "\n",
    "# Save as CSV files\n",
    "employee_df.to_csv('employee.csv', index=False)\n",
    "seniority_df.to_csv('seniority.csv', index=False)\n",
    "project_df.to_csv('project.csv', index=False)\n",
    "\n",
    "# Output success message\n",
    "print(\"Task 1 completed: Dataframes created and saved as CSV files.\")"
   ]
  },
  {
   "cell_type": "code",
   "execution_count": 5,
   "id": "ff69da12-8a8e-4272-87e6-48f9b41d3216",
   "metadata": {},
   "outputs": [
    {
     "name": "stdout",
     "output_type": "stream",
     "text": [
      "Task 2 completed: Missing values replaced using running average with a for loop.\n"
     ]
    }
   ],
   "source": [
    "# Task 2: Handle missing values in the \"Cost\" column using a running average with a for loop\n",
    "def fill_missing_with_running_average(df, column):\n",
    "    values = df[column].tolist()\n",
    "    for i in range(len(values)):\n",
    "        if values[i] is None:\n",
    "            left = values[i - 1] if i > 0 else 0\n",
    "            right = values[i + 1] if i < len(values) - 1 else 0\n",
    "            count = (1 if i > 0 else 0) + (1 if i < len(values) - 1 else 0)\n",
    "            values[i] = (left + right) / count if count > 0 else 0\n",
    "    df[column] = values\n",
    "\n",
    "fill_missing_with_running_average(project_df, 'Cost')\n",
    "\n",
    "# Output success message\n",
    "print(\"Task 2 completed: Missing values replaced using running average with a for loop.\")"
   ]
  },
  {
   "cell_type": "code",
   "execution_count": 7,
   "id": "70be4848-8e23-480e-9b5c-eb2c36d95be1",
   "metadata": {},
   "outputs": [
    {
     "name": "stdout",
     "output_type": "stream",
     "text": [
      "Task 3 completed: Name column split into First Name and Last Name.\n"
     ]
    }
   ],
   "source": [
    "# Task 3: Split the \"Name\" column into \"First Name\" and \"Last Name\" and drop the original \"Name\" column\n",
    "employee_df[['First Name', 'Last Name']] = employee_df['Name'].str.split(expand=True, n=1)\n",
    "employee_df.drop(columns=['Name'], inplace=True)\n",
    "\n",
    "# Output success message\n",
    "print(\"Task 3 completed: Name column split into First Name and Last Name.\")"
   ]
  },
  {
   "cell_type": "code",
   "execution_count": 9,
   "id": "0c933e2e-b66d-4439-af7e-c38e058a4799",
   "metadata": {},
   "outputs": [
    {
     "name": "stdout",
     "output_type": "stream",
     "text": [
      "Task 4 completed: All dataframes merged into a single dataframe named 'Final'.\n"
     ]
    }
   ],
   "source": [
    "# Task 4: Join all three dataframes into one single dataframe named \"Final\"\n",
    "final_df = employee_df.merge(seniority_df, on='ID').merge(project_df, on='ID')\n",
    "\n",
    "# Output success message\n",
    "print(\"Task 4 completed: All dataframes merged into a single dataframe named 'Final'.\")"
   ]
  },
  {
   "cell_type": "code",
   "execution_count": 11,
   "id": "49e6ef57-0f45-4d1f-9f13-495902380057",
   "metadata": {},
   "outputs": [
    {
     "name": "stdout",
     "output_type": "stream",
     "text": [
      "Task 5 completed: Bonus column added to the Final dataframe.\n"
     ]
    }
   ],
   "source": [
    "# Task 5: Add a new bonus column in the Final dataframe\n",
    "final_df['Bonus'] = final_df.apply(lambda row: row['Cost'] * 0.05 if row['Status'] == 'Finished' else 0, axis=1)\n",
    "\n",
    "# Output success message\n",
    "print(\"Task 5 completed: Bonus column added to the Final dataframe.\")"
   ]
  },
  {
   "cell_type": "code",
   "execution_count": 13,
   "id": "f229b0e6-9fa4-4cd8-8f25-8bcb9a60b43f",
   "metadata": {},
   "outputs": [
    {
     "name": "stdout",
     "output_type": "stream",
     "text": [
      "Task 6 completed: Demoted designation level for employees with failed projects and deleted employees with designation level above 4.\n"
     ]
    }
   ],
   "source": [
    "# Task 6: Demote the designation level for employees with \"Failed\" projects\n",
    "failed_projects = project_df[project_df['Status'] == 'Failed']\n",
    "failed_ids = failed_projects['ID'].unique()\n",
    "\n",
    "# Demote designation level by 1 for those employees\n",
    "final_df.loc[final_df['ID'].isin(failed_ids), 'Designation Level'] -= 1\n",
    "\n",
    "# Task 6b: Remove employees whose designation level is above 4\n",
    "final_df = final_df[final_df['Designation Level'] <= 4]\n",
    "\n",
    "# Output success message\n",
    "print(\"Task 6 completed: Demoted designation level for employees with failed projects and deleted employees with designation level above 4.\")"
   ]
  },
  {
   "cell_type": "code",
   "execution_count": 15,
   "id": "58e07835-e39f-4a6e-a86c-4348a963cb90",
   "metadata": {},
   "outputs": [
    {
     "name": "stdout",
     "output_type": "stream",
     "text": [
      "Task 7 completed: Added 'Mr.' and 'Mrs.' to the First Name column and dropped the Gender column.\n"
     ]
    }
   ],
   "source": [
    "# Task 7: Add \"Mr.\" and \"Mrs.\" to the first name column based on the gender column\n",
    "final_df['First Name'] = final_df.apply(\n",
    "    lambda row: 'Mr. ' + row['First Name'] if row['Gender'] == 'M' else 'Mrs. ' + row['First Name'], axis=1\n",
    ")\n",
    "\n",
    "# Drop the Gender column\n",
    "final_df.drop(columns=['Gender'], inplace=True)\n",
    "\n",
    "# Output success message\n",
    "print(\"Task 7 completed: Added 'Mr.' and 'Mrs.' to the First Name column and dropped the Gender column.\")"
   ]
  },
  {
   "cell_type": "code",
   "execution_count": 17,
   "id": "c094c34a-f2d1-42bb-9ed3-e7d0afa5f3fe",
   "metadata": {},
   "outputs": [
    {
     "name": "stdout",
     "output_type": "stream",
     "text": [
      "Task 8 completed: Promoted designation level by 1 for employees whose age is more than 29 years.\n"
     ]
    }
   ],
   "source": [
    "# Task 8: Promote designation level by 1 for employees whose age is greater than 29\n",
    "final_df['Designation Level'] = final_df.apply(\n",
    "    lambda row: row['Designation Level'] + 1 if row['Age'] > 29 else row['Designation Level'], axis=1\n",
    ")\n",
    "\n",
    "# Output success message\n",
    "print(\"Task 8 completed: Promoted designation level by 1 for employees whose age is more than 29 years.\")"
   ]
  },
  {
   "cell_type": "code",
   "execution_count": 19,
   "id": "63adf548-7443-4731-8be4-b561e0da1587",
   "metadata": {},
   "outputs": [
    {
     "name": "stdout",
     "output_type": "stream",
     "text": [
      "Task 9 completed: Created TotalProjCost dataframe with ID, First Name, and Total Cost.\n"
     ]
    }
   ],
   "source": [
    "# Task 9: Calculate the total cost of all projects for each employee\n",
    "total_proj_cost = project_df.groupby('ID')['Cost'].sum().reset_index()\n",
    "\n",
    "# Merge the total project costs with employee first names\n",
    "total_proj_cost = total_proj_cost.merge(employee_df[['ID', 'First Name']], on='ID', how='left')\n",
    "\n",
    "# Rename columns for clarity\n",
    "total_proj_cost.rename(columns={'Cost': 'Total Cost'}, inplace=True)\n",
    "\n",
    "# Output success message\n",
    "print(\"Task 9 completed: Created TotalProjCost dataframe with ID, First Name, and Total Cost.\")"
   ]
  },
  {
   "cell_type": "code",
   "execution_count": 21,
   "id": "7f0dbd36-70a7-4d2e-8cff-7fd14ff82782",
   "metadata": {},
   "outputs": [
    {
     "name": "stdout",
     "output_type": "stream",
     "text": [
      "Employee details whose city contains the letter 'o':\n",
      "     ID Gender     City  Age First Name  Last Name\n",
      "1  A002      F   London   27      Alice  Luxumberg\n",
      "3  A004      F  Newyork   31       Nina      Adgra\n"
     ]
    }
   ],
   "source": [
    "# Task 10: Filter employees whose city contains the letter \"o\"\n",
    "filtered_employees = employee_df[employee_df['City'].str.contains('o', case=False)]\n",
    "\n",
    "# Print the filtered employee details\n",
    "print(\"Employee details whose city contains the letter 'o':\")\n",
    "print(filtered_employees)"
   ]
  },
  {
   "cell_type": "code",
   "execution_count": null,
   "id": "c940b45b-3bd4-41c0-bbc9-8472242babe0",
   "metadata": {},
   "outputs": [],
   "source": []
  }
 ],
 "metadata": {
  "kernelspec": {
   "display_name": "Python [conda env:base] *",
   "language": "python",
   "name": "conda-base-py"
  },
  "language_info": {
   "codemirror_mode": {
    "name": "ipython",
    "version": 3
   },
   "file_extension": ".py",
   "mimetype": "text/x-python",
   "name": "python",
   "nbconvert_exporter": "python",
   "pygments_lexer": "ipython3",
   "version": "3.12.7"
  }
 },
 "nbformat": 4,
 "nbformat_minor": 5
}
